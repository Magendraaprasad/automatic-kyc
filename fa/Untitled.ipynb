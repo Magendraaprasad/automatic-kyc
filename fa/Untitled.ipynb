{
 "cells": [
  {
   "cell_type": "code",
   "execution_count": 6,
   "id": "7bed13f9-4621-4e75-bb62-f193d2c40cc0",
   "metadata": {},
   "outputs": [
    {
     "name": "stdout",
     "output_type": "stream",
     "text": [
      "Similarity score: 0.7008233070373535\n"
     ]
    }
   ],
   "source": [
    "from facenet_pytorch import MTCNN, InceptionResnetV1\n",
    "import torch\n",
    "from PIL import Image\n",
    "\n",
    "# Load models\n",
    "mtcnn = MTCNN()\n",
    "resnet = InceptionResnetV1(pretrained='vggface2').eval()\n",
    "\n",
    "# Load and align faces\n",
    "img1 = mtcnn(Image.open(\"current_photo.jpeg\"))\n",
    "img2 = mtcnn(Image.open(\"old_photo.jpeg\"))\n",
    "\n",
    "# Generate embeddings\n",
    "embedding1 = resnet(img1.unsqueeze(0))\n",
    "embedding2 = resnet(img2.unsqueeze(0))\n",
    "\n",
    "# Compare embeddings\n",
    "similarity = torch.nn.functional.cosine_similarity(embedding1, embedding2)\n",
    "print(\"Similarity score:\", similarity.item())"
   ]
  },
  {
   "cell_type": "code",
   "execution_count": 7,
   "id": "80bb6f26-a510-401b-8c47-1f14eccfdece",
   "metadata": {},
   "outputs": [
    {
     "ename": "SyntaxError",
     "evalue": "(unicode error) 'unicodeescape' codec can't decode bytes in position 2-3: truncated \\UXXXXXXXX escape (254627029.py, line 5)",
     "output_type": "error",
     "traceback": [
      "\u001b[1;36m  Cell \u001b[1;32mIn[7], line 5\u001b[1;36m\u001b[0m\n\u001b[1;33m    image = cv2.imread(\"C:\\Users\\magen\\OneDrive\\Pictures\\aadhar.jpg\")\u001b[0m\n\u001b[1;37m                                                                    ^\u001b[0m\n\u001b[1;31mSyntaxError\u001b[0m\u001b[1;31m:\u001b[0m (unicode error) 'unicodeescape' codec can't decode bytes in position 2-3: truncated \\UXXXXXXXX escape\n"
     ]
    }
   ],
   "source": [
    "import cv2\n",
    "import pytesseract \n",
    "\n",
    "def image2text():\n",
    "    image = cv2.imread(\"C:\\Users\\magen\\OneDrive\\Pictures\\aadhar.jpg\")\n",
    "\n",
    "    rgb = cv2.cvtColor(image,cv2.COLOR_BGR2RGB)\n",
    "    # Convert the image to grayscale\n",
    "    gray = cv2.cvtColor(image, cv2.COLOR_RGB2GRAY)\n",
    "\n",
    "    # Apply thresholding to preprocess the image\n",
    "    _, thresh = cv2.threshold(gray, 150, 255, cv2.THRESH_BINARY)\n",
    "    \n",
    "    thresh = cv2.medianBlur(thresh, 3)  # Noise removal\n",
    "    kernel = cv2.getStructuringElement(cv2.MORPH_RECT, (3, 3))\n",
    "    thresh = cv2.dilate(thresh, kernel, iterations=1)\n",
    "    \n",
    "    # Perform OCR using pytesseract\n",
    "    text = pytesseract.image_to_string(thresh)\n",
    "    \n",
    "    # Print the extracted text\n",
    "    print(\"Extracted Text:\")\n",
    "    print(text)\n",
    "    \n",
    "    # Display the preprocessed image (optional)\n",
    "    cv2.imshow(\"Preprocessed Image\", thresh)\n",
    "    cv2.waitKey(0)\n",
    "    cv2.destroyAllWindows()\n",
    "image2text()"
   ]
  }
 ],
 "metadata": {
  "kernelspec": {
   "display_name": "Python 3 (ipykernel)",
   "language": "python",
   "name": "python3"
  },
  "language_info": {
   "codemirror_mode": {
    "name": "ipython",
    "version": 3
   },
   "file_extension": ".py",
   "mimetype": "text/x-python",
   "name": "python",
   "nbconvert_exporter": "python",
   "pygments_lexer": "ipython3",
   "version": "3.9.0"
  }
 },
 "nbformat": 4,
 "nbformat_minor": 5
}
